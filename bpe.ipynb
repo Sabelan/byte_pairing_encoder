{
 "cells": [
  {
   "cell_type": "code",
   "execution_count": 9,
   "metadata": {},
   "outputs": [],
   "source": [
    "def ReadData(fileName: str) -> str:\n",
    "  with open(f'data/{fileName}.txt', 'r') as f:\n",
    "    return f.read()\n",
    "  \n",
    "data = ReadData('taylorswift')\n",
    "data_bytes = data.encode('utf-8')"
   ]
  },
  {
   "cell_type": "code",
   "execution_count": 8,
   "metadata": {},
   "outputs": [
    {
     "name": "stdout",
     "output_type": "stream",
     "text": [
      "Length of the data: 185768\n",
      "Length of the data in bytes: 186259\n"
     ]
    }
   ],
   "source": [
    "# print(data[0:100])\n",
    "print(f'Length of the data: {len(data)}')\n",
    "print(f'Length of the data in bytes: {len(data_bytes)}')"
   ]
  },
  {
   "cell_type": "code",
   "execution_count": null,
   "metadata": {},
   "outputs": [],
   "source": []
  }
 ],
 "metadata": {
  "kernelspec": {
   "display_name": "Python 3",
   "language": "python",
   "name": "python3"
  },
  "language_info": {
   "codemirror_mode": {
    "name": "ipython",
    "version": 3
   },
   "file_extension": ".py",
   "mimetype": "text/x-python",
   "name": "python",
   "nbconvert_exporter": "python",
   "pygments_lexer": "ipython3",
   "version": "3.12.2"
  }
 },
 "nbformat": 4,
 "nbformat_minor": 2
}
